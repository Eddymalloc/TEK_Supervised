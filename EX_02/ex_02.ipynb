{
 "cells": [
  {
   "cell_type": "markdown",
   "id": "0fc5aa20-73b7-4ca6-a088-157945f14987",
   "metadata": {},
   "source": [
    "# EX02 : Definition of a metric\n",
    "\n",
    "- Rappeler la consigne\n",
    "- Expliquer le choix des library"
   ]
  },
  {
   "cell_type": "code",
   "execution_count": 14,
   "id": "3a3b379a-80db-4f89-8b39-99d358b827c7",
   "metadata": {},
   "outputs": [],
   "source": [
    "import pandas as pd\n",
    "import numpy as np\n",
    "from sklearn.preprocessing import MinMaxScaler\n",
    "from typing import Dict, Any"
   ]
  },
  {
   "cell_type": "code",
   "execution_count": 15,
   "id": "6b18ca07-a933-4d57-a7b3-a45ac5d26fd3",
   "metadata": {},
   "outputs": [],
   "source": [
    "# loading the dataset\n",
    "dataset = pd.read_csv('dataset.csv')"
   ]
  },
  {
   "cell_type": "markdown",
   "id": "d4363666-ab24-46e4-a74a-c038fe29a4cd",
   "metadata": {},
   "source": [
    "### This section is to gather some understanding about the dataset distribution :\n",
    "\n",
    "- explain the use of gathering info on the dataset..."
   ]
  },
  {
   "cell_type": "code",
   "execution_count": 19,
   "id": "1cef07e2-0286-460f-a38d-c132336eecf4",
   "metadata": {},
   "outputs": [
    {
     "data": {
      "text/html": [
       "<div>\n",
       "<style scoped>\n",
       "    .dataframe tbody tr th:only-of-type {\n",
       "        vertical-align: middle;\n",
       "    }\n",
       "\n",
       "    .dataframe tbody tr th {\n",
       "        vertical-align: top;\n",
       "    }\n",
       "\n",
       "    .dataframe thead th {\n",
       "        text-align: right;\n",
       "    }\n",
       "</style>\n",
       "<table border=\"1\" class=\"dataframe\">\n",
       "  <thead>\n",
       "    <tr style=\"text-align: right;\">\n",
       "      <th></th>\n",
       "      <th>Unnamed: 0</th>\n",
       "      <th>age</th>\n",
       "      <th>height</th>\n",
       "      <th>job</th>\n",
       "      <th>city</th>\n",
       "      <th>favorite music style</th>\n",
       "    </tr>\n",
       "  </thead>\n",
       "  <tbody>\n",
       "    <tr>\n",
       "      <th>0</th>\n",
       "      <td>0</td>\n",
       "      <td>0.542122</td>\n",
       "      <td>0.467303</td>\n",
       "      <td>designer</td>\n",
       "      <td>paris</td>\n",
       "      <td>trap</td>\n",
       "    </tr>\n",
       "    <tr>\n",
       "      <th>1</th>\n",
       "      <td>1</td>\n",
       "      <td>0.477207</td>\n",
       "      <td>0.261872</td>\n",
       "      <td>fireman</td>\n",
       "      <td>marseille</td>\n",
       "      <td>hiphop</td>\n",
       "    </tr>\n",
       "    <tr>\n",
       "      <th>2</th>\n",
       "      <td>2</td>\n",
       "      <td>0.597165</td>\n",
       "      <td>0.508966</td>\n",
       "      <td>teacher</td>\n",
       "      <td>paris</td>\n",
       "      <td>metal</td>\n",
       "    </tr>\n",
       "    <tr>\n",
       "      <th>3</th>\n",
       "      <td>3</td>\n",
       "      <td>0.440277</td>\n",
       "      <td>0.252712</td>\n",
       "      <td>designer</td>\n",
       "      <td>toulouse</td>\n",
       "      <td>metal</td>\n",
       "    </tr>\n",
       "    <tr>\n",
       "      <th>4</th>\n",
       "      <td>4</td>\n",
       "      <td>0.462637</td>\n",
       "      <td>0.547991</td>\n",
       "      <td>teacher</td>\n",
       "      <td>paris</td>\n",
       "      <td>metal</td>\n",
       "    </tr>\n",
       "  </tbody>\n",
       "</table>\n",
       "</div>"
      ],
      "text/plain": [
       "   Unnamed: 0       age    height       job       city favorite music style\n",
       "0           0  0.542122  0.467303  designer      paris                 trap\n",
       "1           1  0.477207  0.261872   fireman  marseille               hiphop\n",
       "2           2  0.597165  0.508966   teacher      paris                metal\n",
       "3           3  0.440277  0.252712  designer   toulouse                metal\n",
       "4           4  0.462637  0.547991   teacher      paris                metal"
      ]
     },
     "execution_count": 19,
     "metadata": {},
     "output_type": "execute_result"
    }
   ],
   "source": [
    "# display the first few row\n",
    "dataset.head()"
   ]
  },
  {
   "cell_type": "code",
   "execution_count": 20,
   "id": "c9aa1187-8e00-439b-a14a-5fdced5e4617",
   "metadata": {},
   "outputs": [
    {
     "data": {
      "text/html": [
       "<div>\n",
       "<style scoped>\n",
       "    .dataframe tbody tr th:only-of-type {\n",
       "        vertical-align: middle;\n",
       "    }\n",
       "\n",
       "    .dataframe tbody tr th {\n",
       "        vertical-align: top;\n",
       "    }\n",
       "\n",
       "    .dataframe thead th {\n",
       "        text-align: right;\n",
       "    }\n",
       "</style>\n",
       "<table border=\"1\" class=\"dataframe\">\n",
       "  <thead>\n",
       "    <tr style=\"text-align: right;\">\n",
       "      <th></th>\n",
       "      <th>Unnamed: 0</th>\n",
       "      <th>age</th>\n",
       "      <th>height</th>\n",
       "    </tr>\n",
       "  </thead>\n",
       "  <tbody>\n",
       "    <tr>\n",
       "      <th>count</th>\n",
       "      <td>200.000000</td>\n",
       "      <td>200.000000</td>\n",
       "      <td>200.000000</td>\n",
       "    </tr>\n",
       "    <tr>\n",
       "      <th>mean</th>\n",
       "      <td>99.500000</td>\n",
       "      <td>0.538594</td>\n",
       "      <td>0.446563</td>\n",
       "    </tr>\n",
       "    <tr>\n",
       "      <th>std</th>\n",
       "      <td>57.879185</td>\n",
       "      <td>0.160581</td>\n",
       "      <td>0.153597</td>\n",
       "    </tr>\n",
       "    <tr>\n",
       "      <th>min</th>\n",
       "      <td>0.000000</td>\n",
       "      <td>0.000000</td>\n",
       "      <td>0.000000</td>\n",
       "    </tr>\n",
       "    <tr>\n",
       "      <th>25%</th>\n",
       "      <td>49.750000</td>\n",
       "      <td>0.432797</td>\n",
       "      <td>0.344444</td>\n",
       "    </tr>\n",
       "    <tr>\n",
       "      <th>50%</th>\n",
       "      <td>99.500000</td>\n",
       "      <td>0.529348</td>\n",
       "      <td>0.433321</td>\n",
       "    </tr>\n",
       "    <tr>\n",
       "      <th>75%</th>\n",
       "      <td>149.250000</td>\n",
       "      <td>0.655575</td>\n",
       "      <td>0.543402</td>\n",
       "    </tr>\n",
       "    <tr>\n",
       "      <th>max</th>\n",
       "      <td>199.000000</td>\n",
       "      <td>1.000000</td>\n",
       "      <td>1.000000</td>\n",
       "    </tr>\n",
       "  </tbody>\n",
       "</table>\n",
       "</div>"
      ],
      "text/plain": [
       "       Unnamed: 0         age      height\n",
       "count  200.000000  200.000000  200.000000\n",
       "mean    99.500000    0.538594    0.446563\n",
       "std     57.879185    0.160581    0.153597\n",
       "min      0.000000    0.000000    0.000000\n",
       "25%     49.750000    0.432797    0.344444\n",
       "50%     99.500000    0.529348    0.433321\n",
       "75%    149.250000    0.655575    0.543402\n",
       "max    199.000000    1.000000    1.000000"
      ]
     },
     "execution_count": 20,
     "metadata": {},
     "output_type": "execute_result"
    }
   ],
   "source": [
    "# describe some info about numerical distribution\n",
    "dataset.describe()"
   ]
  },
  {
   "cell_type": "markdown",
   "id": "e4714eb3-4631-4c17-ac7f-4b19835504af",
   "metadata": {},
   "source": [
    "## Preprocessing and normalization of the data\n",
    "\n",
    "- Expliquer pourquoi normaliser ..."
   ]
  },
  {
   "cell_type": "code",
   "execution_count": 21,
   "id": "39cce02f-1ff2-4a67-bcd4-a235b81aedba",
   "metadata": {},
   "outputs": [
    {
     "data": {
      "text/html": [
       "<div>\n",
       "<style scoped>\n",
       "    .dataframe tbody tr th:only-of-type {\n",
       "        vertical-align: middle;\n",
       "    }\n",
       "\n",
       "    .dataframe tbody tr th {\n",
       "        vertical-align: top;\n",
       "    }\n",
       "\n",
       "    .dataframe thead th {\n",
       "        text-align: right;\n",
       "    }\n",
       "</style>\n",
       "<table border=\"1\" class=\"dataframe\">\n",
       "  <thead>\n",
       "    <tr style=\"text-align: right;\">\n",
       "      <th></th>\n",
       "      <th>Unnamed: 0</th>\n",
       "      <th>age</th>\n",
       "      <th>height</th>\n",
       "      <th>job</th>\n",
       "      <th>city</th>\n",
       "      <th>favorite music style</th>\n",
       "    </tr>\n",
       "  </thead>\n",
       "  <tbody>\n",
       "    <tr>\n",
       "      <th>0</th>\n",
       "      <td>0</td>\n",
       "      <td>0.542122</td>\n",
       "      <td>0.467303</td>\n",
       "      <td>designer</td>\n",
       "      <td>paris</td>\n",
       "      <td>trap</td>\n",
       "    </tr>\n",
       "    <tr>\n",
       "      <th>1</th>\n",
       "      <td>1</td>\n",
       "      <td>0.477207</td>\n",
       "      <td>0.261872</td>\n",
       "      <td>fireman</td>\n",
       "      <td>marseille</td>\n",
       "      <td>hiphop</td>\n",
       "    </tr>\n",
       "    <tr>\n",
       "      <th>2</th>\n",
       "      <td>2</td>\n",
       "      <td>0.597165</td>\n",
       "      <td>0.508966</td>\n",
       "      <td>teacher</td>\n",
       "      <td>paris</td>\n",
       "      <td>metal</td>\n",
       "    </tr>\n",
       "    <tr>\n",
       "      <th>3</th>\n",
       "      <td>3</td>\n",
       "      <td>0.440277</td>\n",
       "      <td>0.252712</td>\n",
       "      <td>designer</td>\n",
       "      <td>toulouse</td>\n",
       "      <td>metal</td>\n",
       "    </tr>\n",
       "    <tr>\n",
       "      <th>4</th>\n",
       "      <td>4</td>\n",
       "      <td>0.462637</td>\n",
       "      <td>0.547991</td>\n",
       "      <td>teacher</td>\n",
       "      <td>paris</td>\n",
       "      <td>metal</td>\n",
       "    </tr>\n",
       "  </tbody>\n",
       "</table>\n",
       "</div>"
      ],
      "text/plain": [
       "   Unnamed: 0       age    height       job       city favorite music style\n",
       "0           0  0.542122  0.467303  designer      paris                 trap\n",
       "1           1  0.477207  0.261872   fireman  marseille               hiphop\n",
       "2           2  0.597165  0.508966   teacher      paris                metal\n",
       "3           3  0.440277  0.252712  designer   toulouse                metal\n",
       "4           4  0.462637  0.547991   teacher      paris                metal"
      ]
     },
     "execution_count": 21,
     "metadata": {},
     "output_type": "execute_result"
    }
   ],
   "source": [
    "\"\"\"\n",
    "Let's initialize the scaler using ...\n",
    "\"\"\"\n",
    "scaler = MinMaxScaler()\n",
    "\n",
    "# Apply the scaler to the numerical columns of the data\n",
    "numerical_features = ['age', 'height'] \n",
    "dataset[numerical_features] = scaler.fit_transform(dataset[numerical_features])\n",
    "\n",
    "dataset.head()"
   ]
  },
  {
   "cell_type": "markdown",
   "id": "52db9ac9-afbe-45d4-90d9-8632f05b4b9e",
   "metadata": {},
   "source": [
    "### Handling Categorical Data\n",
    "\n",
    "- `job`, `city`: Plan to use one-hot encoding as these are nominal categories without intrinsic order.\n",
    "- `favorite music style`: Considering a custom encoding strategy to capture the similarity between different music genres based on domain knowledge.\n",
    "\n",
    "## Defining the custom dissimilarity metric\n",
    "\n",
    "We should isolate the different kind of styles that appears at once in the dataset"
   ]
  },
  {
   "cell_type": "code",
   "execution_count": 25,
   "id": "22f82c1c-ee99-47a1-aac8-ebeee71c81ee",
   "metadata": {},
   "outputs": [
    {
     "name": "stdout",
     "output_type": "stream",
     "text": [
      "['trap' 'hiphop' 'metal' 'rock' 'rap' 'classical' 'other' 'jazz'\n",
      " 'technical death metal']\n"
     ]
    }
   ],
   "source": [
    "\n",
    "unique_music_styles = dataset['favorite music style'].unique()\n",
    "print(unique_music_styles)\n"
   ]
  },
  {
   "cell_type": "markdown",
   "id": "8b9ba8b2-3697-4430-b501-925a28291faf",
   "metadata": {},
   "source": [
    "------\n",
    "From now on we can focus on defining a weight relationship between all of the different music style : base on a scale of 0 to 1, closer to one meaning the dissimilarity is higher.  \n",
    "\n",
    "-----"
   ]
  },
  {
   "cell_type": "code",
   "execution_count": 29,
   "id": "19d1ce01-d1a1-4000-a827-73b0418c71dd",
   "metadata": {},
   "outputs": [],
   "source": [
    "genre_dissimilarity = {\n",
    "    \"trap\": {\"hiphop\": 0.1, \"rap\": 0.2, \"metal\": 0.8, \"rock\": 0.7, \"classical\": 0.9, \"jazz\": 0.8, \"technical death metal\": 0.85, \"other\": 0.5},\n",
    "    \"hiphop\": {\"trap\": 0.1, \"rap\": 0.1, \"metal\": 0.8, \"rock\": 0.7, \"classical\": 0.9, \"jazz\": 0.8, \"technical death metal\": 0.85, \"other\": 0.5},\n",
    "    \"rap\": {\"trap\": 0.2, \"hiphop\": 0.1, \"metal\": 0.8, \"rock\": 0.7, \"classical\": 0.9, \"jazz\": 0.8, \"technical death metal\": 0.85, \"other\": 0.5},\n",
    "    \"metal\": {\"trap\": 0.8, \"hiphop\": 0.8, \"rap\": 0.8, \"rock\": 0.4, \"classical\": 0.7, \"jazz\": 0.6, \"technical death metal\": 0.1, \"other\": 0.5},\n",
    "    \"rock\": {\"trap\": 0.7, \"hiphop\": 0.7, \"rap\": 0.7, \"metal\": 0.4, \"classical\": 0.6, \"jazz\": 0.5, \"technical death metal\": 0.45, \"other\": 0.5},\n",
    "    \"classical\": {\"trap\": 0.9, \"hiphop\": 0.9, \"rap\": 0.9, \"metal\": 0.7, \"rock\": 0.6, \"jazz\": 0.4, \"technical death metal\": 0.75, \"other\": 0.5},\n",
    "    \"jazz\": {\"trap\": 0.8, \"hiphop\": 0.8, \"rap\": 0.8, \"metal\": 0.6, \"rock\": 0.5, \"classical\": 0.4, \"technical death metal\": 0.65, \"other\": 0.5},\n",
    "    \"technical death metal\": {\"trap\": 0.85, \"hiphop\": 0.85, \"rap\": 0.85, \"metal\": 0.1, \"rock\": 0.45, \"classical\": 0.75, \"jazz\": 0.65, \"other\": 0.5},\n",
    "    \"other\": {\"trap\": 0.5, \"hiphop\": 0.5, \"rap\": 0.5, \"metal\": 0.5, \"rock\": 0.5, \"classical\": 0.5, \"jazz\": 0.5, \"technical death metal\": 0.5},\n",
    "}\n",
    "\n",
    "def music_style_dissimilarity(style1: str, style2: str) -> float:\n",
    "    # Direct lookup from the predefined matrix, defaulting to maximum dissimilarity (1.0)\n",
    "    return genre_dissimilarity.get(style1, {}).get(style2, 1.0)\n",
    "\n"
   ]
  },
  {
   "cell_type": "code",
   "execution_count": 30,
   "id": "9497ca29-3401-4700-a629-4b25562a6819",
   "metadata": {},
   "outputs": [],
   "source": [
    "\"\"\"\n",
    "sample1:\n",
    "sample2:\n",
    "weight_numerical:\n",
    "weight_categorical:\n",
    "weight_music_style:\n",
    "\"\"\"\n",
    "def custom_dissimilarity(sample1: Dict[str, Any], sample2: Dict[str, Any], \n",
    "                         weight_numerical: float = 1.0, weight_categorical: float = 1.0,\n",
    "                         weight_music_style: float = 1.0) -> float:\n",
    "    dissimilarity = 0.0\n",
    "    \n",
    "    # Calculate dissimilarity for numerical features\n",
    "    for feature in ['age', 'height']:  # Adjust based on your dataset\n",
    "        diff = sample1[feature] - sample2[feature]\n",
    "        dissimilarity += (diff * diff) * weight_numerical\n",
    "    \n",
    "    # Handling categorical features (job and city for now)\n",
    "    categorical_features = ['job', 'city']\n",
    "    for feature in categorical_features:\n",
    "        if sample1[feature] != sample2[feature]:\n",
    "            dissimilarity += weight_categorical\n",
    "    \n",
    "    # Handling 'favorite music style' with the previously defined function\n",
    "    music_style_diff = music_style_dissimilarity(sample1['favorite music style'], sample2['favorite music style'])\n",
    "    dissimilarity += music_style_diff * weight_music_style\n",
    "    \n",
    "    return np.sqrt(dissimilarity)"
   ]
  },
  {
   "cell_type": "markdown",
   "id": "44a4a35c-36a5-4d03-b02e-38eb96954430",
   "metadata": {},
   "source": [
    "-----\n",
    "Now let's produce the dissimilarity matrix\n",
    "\n",
    "-----"
   ]
  },
  {
   "cell_type": "code",
   "execution_count": 31,
   "id": "a5bbd053-3320-4bcd-9b68-fc662ddc9d04",
   "metadata": {},
   "outputs": [],
   "source": [
    "def compute_dissimilarity_matrix(dataset):\n",
    "    num_samples = len(dataset)\n",
    "    dissimilarity_matrix = np.zeros((num_samples, num_samples))\n",
    "\n",
    "    for i in range(num_samples):\n",
    "        for j in range(i, num_samples):  # Optimizing by not recalculating symmetrical values\n",
    "            sample1 = dataset.iloc[i].to_dict()\n",
    "            sample2 = dataset.iloc[j].to_dict()\n",
    "            dissimilarity = custom_dissimilarity(sample1, sample2)\n",
    "            dissimilarity_matrix[i, j] = dissimilarity\n",
    "            dissimilarity_matrix[j, i] = dissimilarity  # Symmetrical property\n",
    "\n",
    "    return dissimilarity_matrix\n",
    "\n",
    "# Compute the dissimilarity matrix\n",
    "dissimilarity_matrix = compute_dissimilarity_matrix(dataset)\n",
    "np.save('dissimilarity_matrix.npy', dissimilarity_matrix)\n"
   ]
  },
  {
   "cell_type": "code",
   "execution_count": null,
   "id": "6dff6a92-fce8-4e66-a303-3cd0617d79fb",
   "metadata": {},
   "outputs": [],
   "source": []
  }
 ],
 "metadata": {
  "kernelspec": {
   "display_name": "Python 3 (ipykernel)",
   "language": "python",
   "name": "python3"
  },
  "language_info": {
   "codemirror_mode": {
    "name": "ipython",
    "version": 3
   },
   "file_extension": ".py",
   "mimetype": "text/x-python",
   "name": "python",
   "nbconvert_exporter": "python",
   "pygments_lexer": "ipython3",
   "version": "3.10.6"
  }
 },
 "nbformat": 4,
 "nbformat_minor": 5
}
