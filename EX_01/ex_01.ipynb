{
 "cells": [
  {
   "cell_type": "markdown",
   "metadata": {},
   "source": [
    "### Part 1: Artificial Dataset Generation "
   ]
  },
  {
   "cell_type": "code",
   "execution_count": 3,
   "metadata": {},
   "outputs": [],
   "source": [
    "import numpy as np\n",
    "import pandas as pd\n",
    "\n",
    "# Set a random seed for reproducibility\n",
    "np.random.seed(42)\n",
    "\n",
    "# Function to generate artificial dataset\n",
    "def generate_artificial_dataset():\n",
    "    # Define dataset properties\n",
    "    num_rows = 300\n",
    "    num_columns = 6\n",
    "\n",
    "    # Create an empty dataframe\n",
    "    dataset = pd.DataFrame()\n",
    "\n",
    "    # Generate columns with different means and standard deviations\n",
    "    for i in range(num_columns):\n",
    "        mean = np.random.uniform(0, 10)\n",
    "        std_dev = np.random.uniform(0.5, 5)\n",
    "\n",
    "        # Determine column type (integer or float)\n",
    "        column_type = np.random.choice(['int', 'float'])\n",
    "\n",
    "        # Generate column data based on type\n",
    "        if column_type == 'int':\n",
    "            column_data = np.random.randint(0, 100, size=num_rows)\n",
    "        else:\n",
    "            column_data = np.random.uniform(0, 100, size=num_rows)\n",
    "\n",
    "        # Add column to the dataset\n",
    "        dataset[f'Column_{i+1}'] = column_data\n",
    "\n",
    "        # Apply mean and standard deviation to the column\n",
    "        dataset[f'Column_{i+1}'] = dataset[f'Column_{i+1}'] * std_dev + mean\n",
    "\n",
    "    # Add a column with a mean close to 2.5\n",
    "    dataset['Column_7'] = np.random.normal(2.5, 0.1, size=num_rows)\n",
    "\n",
    "    # Create positively correlated columns\n",
    "    dataset['Column_8'] = dataset['Column_1'] + np.random.normal(0, 2, size=num_rows)\n",
    "\n",
    "    # Create negatively correlated columns\n",
    "    dataset['Column_9'] = -dataset['Column_2'] + np.random.normal(0, 2, size=num_rows)\n",
    "\n",
    "    # Create columns with correlation close to 0\n",
    "    dataset['Column_10'] = np.random.normal(0, 1, size=num_rows)\n",
    "    dataset['Column_11'] = np.random.normal(0, 1, size=num_rows)\n",
    "\n",
    "    return dataset\n",
    "\n",
    "# Generate the artificial dataset\n",
    "artificial_data = generate_artificial_dataset()\n",
    "\n",
    "# Save the dataset to a CSV file\n",
    "artificial_data.to_csv('artificial_dataset.csv', index=False)\n"
   ]
  }
 ],
 "metadata": {
  "kernelspec": {
   "display_name": "Python 3",
   "language": "python",
   "name": "python3"
  },
  "language_info": {
   "codemirror_mode": {
    "name": "ipython",
    "version": 3
   },
   "file_extension": ".py",
   "mimetype": "text/x-python",
   "name": "python",
   "nbconvert_exporter": "python",
   "pygments_lexer": "ipython3",
   "version": "3.12.2"
  }
 },
 "nbformat": 4,
 "nbformat_minor": 2
}
